{
  "nbformat": 4,
  "nbformat_minor": 0,
  "metadata": {
    "colab": {
      "provenance": []
    },
    "kernelspec": {
      "name": "python3",
      "display_name": "Python 3"
    },
    "language_info": {
      "name": "python"
    }
  },
  "cells": [
    {
      "cell_type": "code",
      "execution_count": null,
      "metadata": {
        "id": "_UjMD7xYLDc_"
      },
      "outputs": [],
      "source": [
        "import numpy as np\n",
        "import pandas as pd\n",
        "import matplotlib.pyplot as plt\n",
        "import seaborn as sns\n",
        "import warnings\n",
        "warnings.filterwarnings('ignore')\n",
        "import random\n"
      ]
    },
    {
      "cell_type": "code",
      "source": [
        "X = [1,8,9,69,55,37,22,42,46,29]\n",
        "k = 2\n",
        "c1 = random.choice(X)\n",
        "c2 = random.choice([item for item in X if item!= c1])\n",
        "print(c1, c2)\n",
        "k1 = []\n",
        "k2 = []\n",
        "kmean1 = 0\n",
        "kmean2 = 0\n",
        "while(c1 != kmean1 or c2 != kmean2):\n",
        "  for i in X:\n",
        "    if abs(i - c1) < abs(i - c2):\n",
        "      k1.append(i)\n",
        "    else:\n",
        "      k2.append(i)\n",
        "\n",
        "  kmean1 = sum(k1)/len(k1)\n",
        "  kmean2 = sum(k2)/len(k2)\n",
        "  c1 = (kmean1)\n",
        "  c2 = (kmean2)\n"
      ],
      "metadata": {
        "colab": {
          "base_uri": "https://localhost:8080/"
        },
        "id": "BUmFkeDiN6tV",
        "outputId": "9fe5f1a4-2e7b-47af-9139-b0bf3b4ebb46"
      },
      "execution_count": null,
      "outputs": [
        {
          "output_type": "stream",
          "name": "stdout",
          "text": [
            "22 29\n"
          ]
        }
      ]
    },
    {
      "cell_type": "code",
      "source": [
        "print(kmean1 ,kmean2)\n",
        "print(k1)\n",
        "print(k2)"
      ],
      "metadata": {
        "colab": {
          "base_uri": "https://localhost:8080/"
        },
        "id": "c1pTCistcvb2",
        "outputId": "d5a76691-544a-4611-f4bc-4eb16910b166"
      },
      "execution_count": null,
      "outputs": [
        {
          "output_type": "stream",
          "name": "stdout",
          "text": [
            "10.0 46.333333333333336\n",
            "[1, 8, 9, 22]\n",
            "[69, 55, 37, 42, 46, 29]\n"
          ]
        }
      ]
    },
    {
      "cell_type": "code",
      "source": [],
      "metadata": {
        "id": "S5rU0bh4SsBF"
      },
      "execution_count": null,
      "outputs": []
    },
    {
      "cell_type": "code",
      "source": [],
      "metadata": {
        "id": "WhpcXDOra1He"
      },
      "execution_count": null,
      "outputs": []
    }
  ]
}